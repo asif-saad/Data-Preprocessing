{
 "cells": [
  {
   "cell_type": "code",
   "execution_count": 178,
   "id": "9bfddc54",
   "metadata": {},
   "outputs": [],
   "source": [
    "import pandas as pd"
   ]
  },
  {
   "cell_type": "code",
   "execution_count": 179,
   "id": "b9d9fd4b",
   "metadata": {},
   "outputs": [],
   "source": [
    "data=pd.read_excel('ODI_cricket.xlsx', sheet_name='bowler')"
   ]
  },
  {
   "cell_type": "markdown",
   "id": "5877ac5b",
   "metadata": {},
   "source": [
    "### Task-2: Displaying the first 10 rows of the dataframe"
   ]
  },
  {
   "cell_type": "code",
   "execution_count": 180,
   "id": "83ed5854",
   "metadata": {},
   "outputs": [
    {
     "data": {
      "text/html": [
       "<div>\n",
       "<style scoped>\n",
       "    .dataframe tbody tr th:only-of-type {\n",
       "        vertical-align: middle;\n",
       "    }\n",
       "\n",
       "    .dataframe tbody tr th {\n",
       "        vertical-align: top;\n",
       "    }\n",
       "\n",
       "    .dataframe thead th {\n",
       "        text-align: right;\n",
       "    }\n",
       "</style>\n",
       "<table border=\"1\" class=\"dataframe\">\n",
       "  <thead>\n",
       "    <tr style=\"text-align: right;\">\n",
       "      <th></th>\n",
       "      <th>Player</th>\n",
       "      <th>Span</th>\n",
       "      <th>Mat</th>\n",
       "      <th>Inns</th>\n",
       "      <th>Balls</th>\n",
       "      <th>Runs</th>\n",
       "      <th>Wkts</th>\n",
       "      <th>Ave</th>\n",
       "      <th>Econ</th>\n",
       "      <th>SR</th>\n",
       "      <th>4</th>\n",
       "      <th>5</th>\n",
       "    </tr>\n",
       "  </thead>\n",
       "  <tbody>\n",
       "    <tr>\n",
       "      <th>0</th>\n",
       "      <td>M Muralitharan (Asia/ICC/SL)</td>\n",
       "      <td>1993-2011</td>\n",
       "      <td>350</td>\n",
       "      <td>341</td>\n",
       "      <td>18811</td>\n",
       "      <td>12326</td>\n",
       "      <td>534</td>\n",
       "      <td>23.08</td>\n",
       "      <td>3.93</td>\n",
       "      <td>35.2</td>\n",
       "      <td>15</td>\n",
       "      <td>10</td>\n",
       "    </tr>\n",
       "    <tr>\n",
       "      <th>1</th>\n",
       "      <td>Wasim Akram (PAK)</td>\n",
       "      <td>1984-2003</td>\n",
       "      <td>356</td>\n",
       "      <td>351</td>\n",
       "      <td>18186</td>\n",
       "      <td>11812</td>\n",
       "      <td>502</td>\n",
       "      <td>23.52</td>\n",
       "      <td>3.89</td>\n",
       "      <td>36.2</td>\n",
       "      <td>17</td>\n",
       "      <td>6</td>\n",
       "    </tr>\n",
       "    <tr>\n",
       "      <th>2</th>\n",
       "      <td>Waqar Younis (PAK)</td>\n",
       "      <td>1989-2003</td>\n",
       "      <td>262</td>\n",
       "      <td>258</td>\n",
       "      <td>12698</td>\n",
       "      <td>9919</td>\n",
       "      <td>416</td>\n",
       "      <td>23.84</td>\n",
       "      <td>4.68</td>\n",
       "      <td>30.5</td>\n",
       "      <td>14</td>\n",
       "      <td>13</td>\n",
       "    </tr>\n",
       "    <tr>\n",
       "      <th>3</th>\n",
       "      <td>WPUJC Vaas (Asia/SL)</td>\n",
       "      <td>1994-2008</td>\n",
       "      <td>322</td>\n",
       "      <td>320</td>\n",
       "      <td>15775</td>\n",
       "      <td>11014</td>\n",
       "      <td>400</td>\n",
       "      <td>27.53</td>\n",
       "      <td>4.18</td>\n",
       "      <td>39.4</td>\n",
       "      <td>9</td>\n",
       "      <td>4</td>\n",
       "    </tr>\n",
       "    <tr>\n",
       "      <th>4</th>\n",
       "      <td>Shahid Afridi (Asia/ICC/PAK)</td>\n",
       "      <td>1996-2015</td>\n",
       "      <td>398</td>\n",
       "      <td>372</td>\n",
       "      <td>17670</td>\n",
       "      <td>13632</td>\n",
       "      <td>395</td>\n",
       "      <td>34.51</td>\n",
       "      <td>4.62</td>\n",
       "      <td>44.7</td>\n",
       "      <td>4</td>\n",
       "      <td>9</td>\n",
       "    </tr>\n",
       "    <tr>\n",
       "      <th>5</th>\n",
       "      <td>SM Pollock (Afr/ICC/SA)</td>\n",
       "      <td>1996-2008</td>\n",
       "      <td>303</td>\n",
       "      <td>297</td>\n",
       "      <td>15712</td>\n",
       "      <td>9631</td>\n",
       "      <td>393</td>\n",
       "      <td>24.50</td>\n",
       "      <td>3.67</td>\n",
       "      <td>39.9</td>\n",
       "      <td>12</td>\n",
       "      <td>5</td>\n",
       "    </tr>\n",
       "    <tr>\n",
       "      <th>6</th>\n",
       "      <td>GD McGrath (AUS/ICC)</td>\n",
       "      <td>1993-2007</td>\n",
       "      <td>250</td>\n",
       "      <td>248</td>\n",
       "      <td>12970</td>\n",
       "      <td>8391</td>\n",
       "      <td>381</td>\n",
       "      <td>22.02</td>\n",
       "      <td>3.88</td>\n",
       "      <td>34.0</td>\n",
       "      <td>9</td>\n",
       "      <td>7</td>\n",
       "    </tr>\n",
       "    <tr>\n",
       "      <th>7</th>\n",
       "      <td>B Lee (AUS)</td>\n",
       "      <td>2000-2012</td>\n",
       "      <td>221</td>\n",
       "      <td>217</td>\n",
       "      <td>11185</td>\n",
       "      <td>8877</td>\n",
       "      <td>380</td>\n",
       "      <td>23.36</td>\n",
       "      <td>4.76</td>\n",
       "      <td>29.4</td>\n",
       "      <td>14</td>\n",
       "      <td>9</td>\n",
       "    </tr>\n",
       "    <tr>\n",
       "      <th>8</th>\n",
       "      <td>SL Malinga (SL)</td>\n",
       "      <td>2004-2019</td>\n",
       "      <td>226</td>\n",
       "      <td>220</td>\n",
       "      <td>10936</td>\n",
       "      <td>9760</td>\n",
       "      <td>338</td>\n",
       "      <td>28.87</td>\n",
       "      <td>5.35</td>\n",
       "      <td>32.3</td>\n",
       "      <td>11</td>\n",
       "      <td>8</td>\n",
       "    </tr>\n",
       "    <tr>\n",
       "      <th>9</th>\n",
       "      <td>A Kumble (Asia/INDIA)</td>\n",
       "      <td>1990-2007</td>\n",
       "      <td>271</td>\n",
       "      <td>265</td>\n",
       "      <td>14496</td>\n",
       "      <td>10412</td>\n",
       "      <td>337</td>\n",
       "      <td>30.89</td>\n",
       "      <td>4.30</td>\n",
       "      <td>43.0</td>\n",
       "      <td>8</td>\n",
       "      <td>2</td>\n",
       "    </tr>\n",
       "  </tbody>\n",
       "</table>\n",
       "</div>"
      ],
      "text/plain": [
       "                         Player       Span  Mat  Inns  Balls   Runs  Wkts  \\\n",
       "0  M Muralitharan (Asia/ICC/SL)  1993-2011  350   341  18811  12326   534   \n",
       "1             Wasim Akram (PAK)  1984-2003  356   351  18186  11812   502   \n",
       "2            Waqar Younis (PAK)  1989-2003  262   258  12698   9919   416   \n",
       "3          WPUJC Vaas (Asia/SL)  1994-2008  322   320  15775  11014   400   \n",
       "4  Shahid Afridi (Asia/ICC/PAK)  1996-2015  398   372  17670  13632   395   \n",
       "5       SM Pollock (Afr/ICC/SA)  1996-2008  303   297  15712   9631   393   \n",
       "6          GD McGrath (AUS/ICC)  1993-2007  250   248  12970   8391   381   \n",
       "7                   B Lee (AUS)  2000-2012  221   217  11185   8877   380   \n",
       "8               SL Malinga (SL)  2004-2019  226   220  10936   9760   338   \n",
       "9         A Kumble (Asia/INDIA)  1990-2007  271   265  14496  10412   337   \n",
       "\n",
       "     Ave  Econ    SR   4   5  \n",
       "0  23.08  3.93  35.2  15  10  \n",
       "1  23.52  3.89  36.2  17   6  \n",
       "2  23.84  4.68  30.5  14  13  \n",
       "3  27.53  4.18  39.4   9   4  \n",
       "4  34.51  4.62  44.7   4   9  \n",
       "5  24.50  3.67  39.9  12   5  \n",
       "6  22.02  3.88  34.0   9   7  \n",
       "7  23.36  4.76  29.4  14   9  \n",
       "8  28.87  5.35  32.3  11   8  \n",
       "9  30.89  4.30  43.0   8   2  "
      ]
     },
     "metadata": {},
     "output_type": "display_data"
    }
   ],
   "source": [
    "display(data.head(10))"
   ]
  },
  {
   "cell_type": "markdown",
   "id": "7b72dbaa",
   "metadata": {},
   "source": [
    "### Task-3: Creating a markdown cell and explaining the meaning of each column"
   ]
  },
  {
   "cell_type": "markdown",
   "id": "830781c2",
   "metadata": {},
   "source": [
    "| Column Name | Description |\n",
    "|:---         |:---|\n",
    "|Player       | Name of the bowlers|\n",
    "|Span         | The time period a specific player played|\n",
    "|Mat          | Number Matches played|\n",
    "|Inns         | Number of Innings played|\n",
    "|Balls        | Number of Balls being bowled by the player|\n",
    "|Runs         | Number of Runs conceded|\n",
    "|Wkts         | Number of Wickets taken|\n",
    "|Ave          | Number of Balls being bowled to take a single wicket|\n",
    "|Econ         | Average number of runs being conceded per over bowled|\n",
    "|SR           | The average number of runs scored per 100 balls faced|\n",
    "|4            | Number of times 4 wickets being taken|\n",
    "|5            | Number of times 5 wickets being taken|"
   ]
  },
  {
   "cell_type": "markdown",
   "id": "a54a270f",
   "metadata": {},
   "source": [
    "### Task-4: Finding the number of rows and columns in the dataframe"
   ]
  },
  {
   "cell_type": "code",
   "execution_count": 181,
   "id": "509e5a5a",
   "metadata": {},
   "outputs": [
    {
     "name": "stdout",
     "output_type": "stream",
     "text": [
      "The number of rows is 77 and the number of columns is 12\n"
     ]
    }
   ],
   "source": [
    "print(\"The number of rows is\",data.shape[0],\"and the number of columns is\",data.shape[1])"
   ]
  },
  {
   "cell_type": "markdown",
   "id": "889ef889",
   "metadata": {},
   "source": [
    "### Task-5: Finding the data statistics and checking for the data types"
   ]
  },
  {
   "cell_type": "code",
   "execution_count": 182,
   "id": "7cf69e17",
   "metadata": {},
   "outputs": [
    {
     "name": "stdout",
     "output_type": "stream",
     "text": [
      "The data statistics\n"
     ]
    },
    {
     "data": {
      "text/html": [
       "<div>\n",
       "<style scoped>\n",
       "    .dataframe tbody tr th:only-of-type {\n",
       "        vertical-align: middle;\n",
       "    }\n",
       "\n",
       "    .dataframe tbody tr th {\n",
       "        vertical-align: top;\n",
       "    }\n",
       "\n",
       "    .dataframe thead th {\n",
       "        text-align: right;\n",
       "    }\n",
       "</style>\n",
       "<table border=\"1\" class=\"dataframe\">\n",
       "  <thead>\n",
       "    <tr style=\"text-align: right;\">\n",
       "      <th></th>\n",
       "      <th>Mat</th>\n",
       "      <th>Inns</th>\n",
       "      <th>Balls</th>\n",
       "      <th>Runs</th>\n",
       "      <th>Wkts</th>\n",
       "      <th>Ave</th>\n",
       "      <th>Econ</th>\n",
       "      <th>SR</th>\n",
       "      <th>4</th>\n",
       "      <th>5</th>\n",
       "    </tr>\n",
       "  </thead>\n",
       "  <tbody>\n",
       "    <tr>\n",
       "      <th>count</th>\n",
       "      <td>77.000000</td>\n",
       "      <td>77.000000</td>\n",
       "      <td>77.000000</td>\n",
       "      <td>77.000000</td>\n",
       "      <td>77.000000</td>\n",
       "      <td>77.000000</td>\n",
       "      <td>77.000000</td>\n",
       "      <td>77.000000</td>\n",
       "      <td>77.000000</td>\n",
       "      <td>77.000000</td>\n",
       "    </tr>\n",
       "    <tr>\n",
       "      <th>mean</th>\n",
       "      <td>194.402597</td>\n",
       "      <td>181.194805</td>\n",
       "      <td>8839.402597</td>\n",
       "      <td>6671.714286</td>\n",
       "      <td>233.805195</td>\n",
       "      <td>28.958052</td>\n",
       "      <td>4.596753</td>\n",
       "      <td>37.909091</td>\n",
       "      <td>6.350649</td>\n",
       "      <td>2.870130</td>\n",
       "    </tr>\n",
       "    <tr>\n",
       "      <th>std</th>\n",
       "      <td>82.485606</td>\n",
       "      <td>67.958393</td>\n",
       "      <td>3316.055457</td>\n",
       "      <td>2245.839029</td>\n",
       "      <td>84.406603</td>\n",
       "      <td>4.826768</td>\n",
       "      <td>0.515814</td>\n",
       "      <td>6.060901</td>\n",
       "      <td>3.556929</td>\n",
       "      <td>2.530606</td>\n",
       "    </tr>\n",
       "    <tr>\n",
       "      <th>min</th>\n",
       "      <td>80.000000</td>\n",
       "      <td>76.000000</td>\n",
       "      <td>4074.000000</td>\n",
       "      <td>2821.000000</td>\n",
       "      <td>151.000000</td>\n",
       "      <td>18.680000</td>\n",
       "      <td>3.300000</td>\n",
       "      <td>26.100000</td>\n",
       "      <td>1.000000</td>\n",
       "      <td>0.000000</td>\n",
       "    </tr>\n",
       "    <tr>\n",
       "      <th>25%</th>\n",
       "      <td>136.000000</td>\n",
       "      <td>128.000000</td>\n",
       "      <td>6182.000000</td>\n",
       "      <td>5058.000000</td>\n",
       "      <td>173.000000</td>\n",
       "      <td>24.970000</td>\n",
       "      <td>4.280000</td>\n",
       "      <td>33.000000</td>\n",
       "      <td>3.000000</td>\n",
       "      <td>1.000000</td>\n",
       "    </tr>\n",
       "    <tr>\n",
       "      <th>50%</th>\n",
       "      <td>170.000000</td>\n",
       "      <td>164.000000</td>\n",
       "      <td>8054.000000</td>\n",
       "      <td>6192.000000</td>\n",
       "      <td>199.000000</td>\n",
       "      <td>29.290000</td>\n",
       "      <td>4.660000</td>\n",
       "      <td>37.800000</td>\n",
       "      <td>6.000000</td>\n",
       "      <td>2.000000</td>\n",
       "    </tr>\n",
       "    <tr>\n",
       "      <th>75%</th>\n",
       "      <td>227.000000</td>\n",
       "      <td>218.000000</td>\n",
       "      <td>10750.000000</td>\n",
       "      <td>8021.000000</td>\n",
       "      <td>272.000000</td>\n",
       "      <td>31.900000</td>\n",
       "      <td>4.920000</td>\n",
       "      <td>41.400000</td>\n",
       "      <td>8.000000</td>\n",
       "      <td>4.000000</td>\n",
       "    </tr>\n",
       "    <tr>\n",
       "      <th>max</th>\n",
       "      <td>463.000000</td>\n",
       "      <td>372.000000</td>\n",
       "      <td>18811.000000</td>\n",
       "      <td>13632.000000</td>\n",
       "      <td>534.000000</td>\n",
       "      <td>44.480000</td>\n",
       "      <td>5.830000</td>\n",
       "      <td>52.500000</td>\n",
       "      <td>17.000000</td>\n",
       "      <td>13.000000</td>\n",
       "    </tr>\n",
       "  </tbody>\n",
       "</table>\n",
       "</div>"
      ],
      "text/plain": [
       "              Mat        Inns         Balls          Runs        Wkts  \\\n",
       "count   77.000000   77.000000     77.000000     77.000000   77.000000   \n",
       "mean   194.402597  181.194805   8839.402597   6671.714286  233.805195   \n",
       "std     82.485606   67.958393   3316.055457   2245.839029   84.406603   \n",
       "min     80.000000   76.000000   4074.000000   2821.000000  151.000000   \n",
       "25%    136.000000  128.000000   6182.000000   5058.000000  173.000000   \n",
       "50%    170.000000  164.000000   8054.000000   6192.000000  199.000000   \n",
       "75%    227.000000  218.000000  10750.000000   8021.000000  272.000000   \n",
       "max    463.000000  372.000000  18811.000000  13632.000000  534.000000   \n",
       "\n",
       "             Ave       Econ         SR          4          5  \n",
       "count  77.000000  77.000000  77.000000  77.000000  77.000000  \n",
       "mean   28.958052   4.596753  37.909091   6.350649   2.870130  \n",
       "std     4.826768   0.515814   6.060901   3.556929   2.530606  \n",
       "min    18.680000   3.300000  26.100000   1.000000   0.000000  \n",
       "25%    24.970000   4.280000  33.000000   3.000000   1.000000  \n",
       "50%    29.290000   4.660000  37.800000   6.000000   2.000000  \n",
       "75%    31.900000   4.920000  41.400000   8.000000   4.000000  \n",
       "max    44.480000   5.830000  52.500000  17.000000  13.000000  "
      ]
     },
     "execution_count": 182,
     "metadata": {},
     "output_type": "execute_result"
    }
   ],
   "source": [
    "print(\"The data statistics\")\n",
    "data.describe()"
   ]
  },
  {
   "cell_type": "code",
   "execution_count": 183,
   "id": "6ebf48f4",
   "metadata": {},
   "outputs": [
    {
     "name": "stdout",
     "output_type": "stream",
     "text": [
      "Player     object\n",
      "Span       object\n",
      "Mat         int64\n",
      "Inns        int64\n",
      "Balls       int64\n",
      "Runs        int64\n",
      "Wkts        int64\n",
      "Ave       float64\n",
      "Econ      float64\n",
      "SR        float64\n",
      "4           int64\n",
      "5           int64\n",
      "dtype: object\n"
     ]
    }
   ],
   "source": [
    "print(data.dtypes)"
   ]
  },
  {
   "cell_type": "markdown",
   "id": "d8766b81",
   "metadata": {},
   "source": [
    "### Task-6: Missing values in the dataframe"
   ]
  },
  {
   "cell_type": "code",
   "execution_count": 184,
   "id": "22156f59",
   "metadata": {},
   "outputs": [
    {
     "name": "stdout",
     "output_type": "stream",
     "text": [
      "No missing value\n"
     ]
    }
   ],
   "source": [
    "flag=0\n",
    "for i in data.isnull().sum():\n",
    "    if(i>0):\n",
    "        flag=1\n",
    "        print(\"Missing value exists!!!\")\n",
    "        break\n",
    "if(flag==0):\n",
    "    print(\"No missing value\")"
   ]
  },
  {
   "cell_type": "code",
   "execution_count": 185,
   "id": "5ea4ec54",
   "metadata": {},
   "outputs": [
    {
     "data": {
      "text/plain": [
       "Index(['Player',   'Span',    'Mat',   'Inns',  'Balls',   'Runs',   'Wkts',\n",
       "          'Ave',   'Econ',     'SR',        4,        5],\n",
       "      dtype='object')"
      ]
     },
     "execution_count": 185,
     "metadata": {},
     "output_type": "execute_result"
    }
   ],
   "source": [
    "data.columns"
   ]
  },
  {
   "cell_type": "markdown",
   "id": "e169684e",
   "metadata": {},
   "source": [
    "### Task-7: Renaming the column names appropriately"
   ]
  },
  {
   "cell_type": "code",
   "execution_count": 186,
   "id": "f04dda56",
   "metadata": {},
   "outputs": [
    {
     "name": "stdout",
     "output_type": "stream",
     "text": [
      "The new modified columns' names list: Index(['Player', 'Span', 'Matches', 'Innings', 'Balls', 'Runs', 'Wickets',\n",
      "       'Average', 'Economy', 'Strike_Rate', '4_Wickets', '5_wickets'],\n",
      "      dtype='object')\n"
     ]
    }
   ],
   "source": [
    "data.rename(columns={'Mat':'Matches','Inns':'Innings','Wkts':'Wickets','Ave':'Average','Econ':'Economy','SR':'Strike_Rate',4:'4_Wickets',5:'5_wickets'},inplace=True)\n",
    "print(\"The new modified columns' names list:\",data.columns)"
   ]
  },
  {
   "cell_type": "code",
   "execution_count": null,
   "id": "6903e80d",
   "metadata": {
    "scrolled": true
   },
   "outputs": [],
   "source": []
  },
  {
   "cell_type": "markdown",
   "id": "dd29600c",
   "metadata": {},
   "source": [
    "### Task-8: Number of players played for ICC"
   ]
  },
  {
   "cell_type": "code",
   "execution_count": 187,
   "id": "b45e515d",
   "metadata": {},
   "outputs": [
    {
     "name": "stdout",
     "output_type": "stream",
     "text": [
      "13\n"
     ]
    }
   ],
   "source": [
    "data[['Player_Name','Country']]=data.Player.str.split(\"(\",expand=True)\n",
    "\n",
    "#replacing ) sign and finding if anyone played for ICC\n",
    "data['Country']=data.Country.str.replace(')','',regex=True)\n",
    "data['ICC']=data.Country.str.contains(\"ICC\")\n",
    "data['Country']=data.Country.str.replace(\"ICC/\",\"\",regex=True)\n",
    "data['Country']=data.Country.str.replace(\"/ICC\",\"\",regex=True)\n",
    "\n",
    "\n",
    "\n",
    "#replacing asia and africa\n",
    "data['Asia']=data.Country.str.contains(\"Asia\")\n",
    "data['Country']=data.Country.str.replace(\"Asia/\",\"\",regex=True)\n",
    "data['Africa']=data.Country.str.contains(\"Afr\")\n",
    "data['Country']=data.Country.str.replace(\"Afr/\",\"\",regex=True)\n",
    "\n",
    "print(data['ICC'].value_counts()[1])"
   ]
  },
  {
   "cell_type": "code",
   "execution_count": null,
   "id": "beff7000",
   "metadata": {},
   "outputs": [],
   "source": []
  },
  {
   "cell_type": "markdown",
   "id": "34796bd1",
   "metadata": {},
   "source": [
    "### Task-9: Number of different countries are present in this dataset"
   ]
  },
  {
   "cell_type": "code",
   "execution_count": 188,
   "id": "550c43a3",
   "metadata": {},
   "outputs": [
    {
     "data": {
      "text/plain": [
       "11"
      ]
     },
     "execution_count": 188,
     "metadata": {},
     "output_type": "execute_result"
    }
   ],
   "source": [
    "len(data.Country.unique())"
   ]
  },
  {
   "cell_type": "code",
   "execution_count": null,
   "id": "6f68a315",
   "metadata": {},
   "outputs": [],
   "source": []
  },
  {
   "cell_type": "markdown",
   "id": "c00237c7",
   "metadata": {},
   "source": [
    "### Task-10: Player played for the longest period of time"
   ]
  },
  {
   "cell_type": "code",
   "execution_count": 189,
   "id": "229fbc67",
   "metadata": {},
   "outputs": [
    {
     "name": "stdout",
     "output_type": "stream",
     "text": [
      "72    SR Tendulkar \n",
      "Name: Player_Name, dtype: object\n"
     ]
    }
   ],
   "source": [
    "data[['Start','End']]=data['Span'].str.split(\"-\",expand=True)\n",
    "data['Start']=data['Start'].astype('int32')\n",
    "data['End']=data['End'].astype('int32')\n",
    "data['Period']=data['End']-data['Start']\n",
    "print(data[data['Period']==data['Period'].max()].Player_Name) # how to avoid the index and the data type and column name"
   ]
  },
  {
   "cell_type": "markdown",
   "id": "89aefe92",
   "metadata": {},
   "source": [
    "### Task-11: Players played for the shortest period of time"
   ]
  },
  {
   "cell_type": "code",
   "execution_count": 190,
   "id": "a156f262",
   "metadata": {},
   "outputs": [
    {
     "name": "stdout",
     "output_type": "stream",
     "text": [
      "40     BKV Prasad \n",
      "49    Saeed Ajmal \n",
      "73     BAW Mendis \n",
      "74    Rashid Khan \n",
      "Name: Player_Name, dtype: object\n"
     ]
    }
   ],
   "source": [
    "print(data[data['Period']==data['Period'].min()].Player_Name)"
   ]
  },
  {
   "cell_type": "markdown",
   "id": "e349ec2d",
   "metadata": {},
   "source": [
    "### Task-12: Number of Australian Bowlers are present in this dataset"
   ]
  },
  {
   "cell_type": "code",
   "execution_count": 191,
   "id": "88537c28",
   "metadata": {},
   "outputs": [
    {
     "name": "stdout",
     "output_type": "stream",
     "text": [
      "13\n"
     ]
    }
   ],
   "source": [
    "print(data['Country'].value_counts()[0])"
   ]
  },
  {
   "cell_type": "markdown",
   "id": "4d01f2af",
   "metadata": {},
   "source": [
    "### Task-13: If any Bangladeshi Player Present"
   ]
  },
  {
   "cell_type": "code",
   "execution_count": 192,
   "id": "6d3028a9",
   "metadata": {},
   "outputs": [
    {
     "data": {
      "text/plain": [
       "3"
      ]
     },
     "execution_count": 192,
     "metadata": {},
     "output_type": "execute_result"
    }
   ],
   "source": [
    "data[data['Country']=='BAN'].shape[0]"
   ]
  },
  {
   "cell_type": "markdown",
   "id": "70b14891",
   "metadata": {},
   "source": [
    "### Task-14: Player with the lowest economy rate"
   ]
  },
  {
   "cell_type": "code",
   "execution_count": 193,
   "id": "61756d8b",
   "metadata": {},
   "outputs": [
    {
     "data": {
      "text/plain": [
       "65    RJ Hadlee \n",
       "Name: Player_Name, dtype: object"
      ]
     },
     "execution_count": 193,
     "metadata": {},
     "output_type": "execute_result"
    }
   ],
   "source": [
    "data[data['Economy']==data['Economy'].min()].Player_Name"
   ]
  },
  {
   "cell_type": "markdown",
   "id": "b6c4f120",
   "metadata": {},
   "source": [
    "### Task-15: Player with lowest strike rate"
   ]
  },
  {
   "cell_type": "code",
   "execution_count": 194,
   "id": "18541f94",
   "metadata": {},
   "outputs": [
    {
     "data": {
      "text/plain": [
       "41    MA Starc \n",
       "Name: Player_Name, dtype: object"
      ]
     },
     "execution_count": 194,
     "metadata": {},
     "output_type": "execute_result"
    }
   ],
   "source": [
    "data[data['Strike_Rate']==data['Strike_Rate'].min()].Player_Name"
   ]
  },
  {
   "cell_type": "markdown",
   "id": "23cb9c65",
   "metadata": {},
   "source": [
    "### Task-15: Player with Lowest Bowling Average"
   ]
  },
  {
   "cell_type": "code",
   "execution_count": 195,
   "id": "c6a8fa8b",
   "metadata": {},
   "outputs": [
    {
     "data": {
      "text/plain": [
       "Index(['Player', 'Span', 'Matches', 'Innings', 'Balls', 'Runs', 'Wickets',\n",
       "       'Average', 'Economy', 'Strike_Rate', '4_Wickets', '5_wickets',\n",
       "       'Player_Name', 'Country', 'ICC', 'Asia', 'Africa', 'Start', 'End',\n",
       "       'Period'],\n",
       "      dtype='object')"
      ]
     },
     "execution_count": 195,
     "metadata": {},
     "output_type": "execute_result"
    }
   ],
   "source": [
    "data.columns"
   ]
  },
  {
   "cell_type": "code",
   "execution_count": 196,
   "id": "77c799d2",
   "metadata": {},
   "outputs": [
    {
     "data": {
      "text/plain": [
       "74    Rashid Khan \n",
       "Name: Player_Name, dtype: object"
      ]
     },
     "execution_count": 196,
     "metadata": {},
     "output_type": "execute_result"
    }
   ],
   "source": [
    "data[data['Average']==data['Average'].min()].Player_Name"
   ]
  },
  {
   "cell_type": "markdown",
   "id": "69db4f8b",
   "metadata": {},
   "source": [
    "### Task-16: Removing unnecessary columns"
   ]
  },
  {
   "cell_type": "code",
   "execution_count": 197,
   "id": "d535d845",
   "metadata": {},
   "outputs": [
    {
     "data": {
      "text/html": [
       "<div>\n",
       "<style scoped>\n",
       "    .dataframe tbody tr th:only-of-type {\n",
       "        vertical-align: middle;\n",
       "    }\n",
       "\n",
       "    .dataframe tbody tr th {\n",
       "        vertical-align: top;\n",
       "    }\n",
       "\n",
       "    .dataframe thead th {\n",
       "        text-align: right;\n",
       "    }\n",
       "</style>\n",
       "<table border=\"1\" class=\"dataframe\">\n",
       "  <thead>\n",
       "    <tr style=\"text-align: right;\">\n",
       "      <th></th>\n",
       "      <th>Matches</th>\n",
       "      <th>Innings</th>\n",
       "      <th>Balls</th>\n",
       "      <th>Runs</th>\n",
       "      <th>Wickets</th>\n",
       "      <th>Average</th>\n",
       "      <th>Economy</th>\n",
       "      <th>Strike_Rate</th>\n",
       "      <th>4_Wickets</th>\n",
       "      <th>5_wickets</th>\n",
       "      <th>Player_Name</th>\n",
       "      <th>Country</th>\n",
       "      <th>ICC</th>\n",
       "      <th>Asia</th>\n",
       "      <th>Africa</th>\n",
       "      <th>Start</th>\n",
       "      <th>End</th>\n",
       "      <th>Period</th>\n",
       "    </tr>\n",
       "  </thead>\n",
       "  <tbody>\n",
       "    <tr>\n",
       "      <th>0</th>\n",
       "      <td>350</td>\n",
       "      <td>341</td>\n",
       "      <td>18811</td>\n",
       "      <td>12326</td>\n",
       "      <td>534</td>\n",
       "      <td>23.08</td>\n",
       "      <td>3.93</td>\n",
       "      <td>35.2</td>\n",
       "      <td>15</td>\n",
       "      <td>10</td>\n",
       "      <td>M Muralitharan</td>\n",
       "      <td>SL</td>\n",
       "      <td>True</td>\n",
       "      <td>True</td>\n",
       "      <td>False</td>\n",
       "      <td>1993</td>\n",
       "      <td>2011</td>\n",
       "      <td>18</td>\n",
       "    </tr>\n",
       "    <tr>\n",
       "      <th>1</th>\n",
       "      <td>356</td>\n",
       "      <td>351</td>\n",
       "      <td>18186</td>\n",
       "      <td>11812</td>\n",
       "      <td>502</td>\n",
       "      <td>23.52</td>\n",
       "      <td>3.89</td>\n",
       "      <td>36.2</td>\n",
       "      <td>17</td>\n",
       "      <td>6</td>\n",
       "      <td>Wasim Akram</td>\n",
       "      <td>PAK</td>\n",
       "      <td>False</td>\n",
       "      <td>False</td>\n",
       "      <td>False</td>\n",
       "      <td>1984</td>\n",
       "      <td>2003</td>\n",
       "      <td>19</td>\n",
       "    </tr>\n",
       "    <tr>\n",
       "      <th>2</th>\n",
       "      <td>262</td>\n",
       "      <td>258</td>\n",
       "      <td>12698</td>\n",
       "      <td>9919</td>\n",
       "      <td>416</td>\n",
       "      <td>23.84</td>\n",
       "      <td>4.68</td>\n",
       "      <td>30.5</td>\n",
       "      <td>14</td>\n",
       "      <td>13</td>\n",
       "      <td>Waqar Younis</td>\n",
       "      <td>PAK</td>\n",
       "      <td>False</td>\n",
       "      <td>False</td>\n",
       "      <td>False</td>\n",
       "      <td>1989</td>\n",
       "      <td>2003</td>\n",
       "      <td>14</td>\n",
       "    </tr>\n",
       "    <tr>\n",
       "      <th>3</th>\n",
       "      <td>322</td>\n",
       "      <td>320</td>\n",
       "      <td>15775</td>\n",
       "      <td>11014</td>\n",
       "      <td>400</td>\n",
       "      <td>27.53</td>\n",
       "      <td>4.18</td>\n",
       "      <td>39.4</td>\n",
       "      <td>9</td>\n",
       "      <td>4</td>\n",
       "      <td>WPUJC Vaas</td>\n",
       "      <td>SL</td>\n",
       "      <td>False</td>\n",
       "      <td>True</td>\n",
       "      <td>False</td>\n",
       "      <td>1994</td>\n",
       "      <td>2008</td>\n",
       "      <td>14</td>\n",
       "    </tr>\n",
       "    <tr>\n",
       "      <th>4</th>\n",
       "      <td>398</td>\n",
       "      <td>372</td>\n",
       "      <td>17670</td>\n",
       "      <td>13632</td>\n",
       "      <td>395</td>\n",
       "      <td>34.51</td>\n",
       "      <td>4.62</td>\n",
       "      <td>44.7</td>\n",
       "      <td>4</td>\n",
       "      <td>9</td>\n",
       "      <td>Shahid Afridi</td>\n",
       "      <td>PAK</td>\n",
       "      <td>True</td>\n",
       "      <td>True</td>\n",
       "      <td>False</td>\n",
       "      <td>1996</td>\n",
       "      <td>2015</td>\n",
       "      <td>19</td>\n",
       "    </tr>\n",
       "    <tr>\n",
       "      <th>...</th>\n",
       "      <td>...</td>\n",
       "      <td>...</td>\n",
       "      <td>...</td>\n",
       "      <td>...</td>\n",
       "      <td>...</td>\n",
       "      <td>...</td>\n",
       "      <td>...</td>\n",
       "      <td>...</td>\n",
       "      <td>...</td>\n",
       "      <td>...</td>\n",
       "      <td>...</td>\n",
       "      <td>...</td>\n",
       "      <td>...</td>\n",
       "      <td>...</td>\n",
       "      <td>...</td>\n",
       "      <td>...</td>\n",
       "      <td>...</td>\n",
       "      <td>...</td>\n",
       "    </tr>\n",
       "    <tr>\n",
       "      <th>72</th>\n",
       "      <td>463</td>\n",
       "      <td>270</td>\n",
       "      <td>8054</td>\n",
       "      <td>6850</td>\n",
       "      <td>154</td>\n",
       "      <td>44.48</td>\n",
       "      <td>5.10</td>\n",
       "      <td>52.2</td>\n",
       "      <td>4</td>\n",
       "      <td>2</td>\n",
       "      <td>SR Tendulkar</td>\n",
       "      <td>INDIA</td>\n",
       "      <td>False</td>\n",
       "      <td>False</td>\n",
       "      <td>False</td>\n",
       "      <td>1989</td>\n",
       "      <td>2012</td>\n",
       "      <td>23</td>\n",
       "    </tr>\n",
       "    <tr>\n",
       "      <th>73</th>\n",
       "      <td>87</td>\n",
       "      <td>84</td>\n",
       "      <td>4154</td>\n",
       "      <td>3324</td>\n",
       "      <td>152</td>\n",
       "      <td>21.86</td>\n",
       "      <td>4.80</td>\n",
       "      <td>27.3</td>\n",
       "      <td>7</td>\n",
       "      <td>3</td>\n",
       "      <td>BAW Mendis</td>\n",
       "      <td>SL</td>\n",
       "      <td>False</td>\n",
       "      <td>False</td>\n",
       "      <td>False</td>\n",
       "      <td>2008</td>\n",
       "      <td>2015</td>\n",
       "      <td>7</td>\n",
       "    </tr>\n",
       "    <tr>\n",
       "      <th>74</th>\n",
       "      <td>80</td>\n",
       "      <td>76</td>\n",
       "      <td>4074</td>\n",
       "      <td>2821</td>\n",
       "      <td>151</td>\n",
       "      <td>18.68</td>\n",
       "      <td>4.15</td>\n",
       "      <td>26.9</td>\n",
       "      <td>5</td>\n",
       "      <td>4</td>\n",
       "      <td>Rashid Khan</td>\n",
       "      <td>AFG</td>\n",
       "      <td>False</td>\n",
       "      <td>False</td>\n",
       "      <td>False</td>\n",
       "      <td>2015</td>\n",
       "      <td>2022</td>\n",
       "      <td>7</td>\n",
       "    </tr>\n",
       "    <tr>\n",
       "      <th>75</th>\n",
       "      <td>147</td>\n",
       "      <td>136</td>\n",
       "      <td>6142</td>\n",
       "      <td>4818</td>\n",
       "      <td>151</td>\n",
       "      <td>31.90</td>\n",
       "      <td>4.70</td>\n",
       "      <td>40.6</td>\n",
       "      <td>4</td>\n",
       "      <td>1</td>\n",
       "      <td>UDU Chandana</td>\n",
       "      <td>SL</td>\n",
       "      <td>False</td>\n",
       "      <td>False</td>\n",
       "      <td>False</td>\n",
       "      <td>1994</td>\n",
       "      <td>2007</td>\n",
       "      <td>13</td>\n",
       "    </tr>\n",
       "    <tr>\n",
       "      <th>76</th>\n",
       "      <td>113</td>\n",
       "      <td>111</td>\n",
       "      <td>6141</td>\n",
       "      <td>5058</td>\n",
       "      <td>151</td>\n",
       "      <td>33.49</td>\n",
       "      <td>4.94</td>\n",
       "      <td>40.6</td>\n",
       "      <td>1</td>\n",
       "      <td>0</td>\n",
       "      <td>R Ashwin</td>\n",
       "      <td>INDIA</td>\n",
       "      <td>False</td>\n",
       "      <td>False</td>\n",
       "      <td>False</td>\n",
       "      <td>2010</td>\n",
       "      <td>2022</td>\n",
       "      <td>12</td>\n",
       "    </tr>\n",
       "  </tbody>\n",
       "</table>\n",
       "<p>77 rows × 18 columns</p>\n",
       "</div>"
      ],
      "text/plain": [
       "    Matches  Innings  Balls   Runs  Wickets  Average  Economy  Strike_Rate  \\\n",
       "0       350      341  18811  12326      534    23.08     3.93         35.2   \n",
       "1       356      351  18186  11812      502    23.52     3.89         36.2   \n",
       "2       262      258  12698   9919      416    23.84     4.68         30.5   \n",
       "3       322      320  15775  11014      400    27.53     4.18         39.4   \n",
       "4       398      372  17670  13632      395    34.51     4.62         44.7   \n",
       "..      ...      ...    ...    ...      ...      ...      ...          ...   \n",
       "72      463      270   8054   6850      154    44.48     5.10         52.2   \n",
       "73       87       84   4154   3324      152    21.86     4.80         27.3   \n",
       "74       80       76   4074   2821      151    18.68     4.15         26.9   \n",
       "75      147      136   6142   4818      151    31.90     4.70         40.6   \n",
       "76      113      111   6141   5058      151    33.49     4.94         40.6   \n",
       "\n",
       "    4_Wickets  5_wickets      Player_Name Country    ICC   Asia  Africa  \\\n",
       "0          15         10  M Muralitharan       SL   True   True   False   \n",
       "1          17          6     Wasim Akram      PAK  False  False   False   \n",
       "2          14         13    Waqar Younis      PAK  False  False   False   \n",
       "3           9          4      WPUJC Vaas       SL  False   True   False   \n",
       "4           4          9   Shahid Afridi      PAK   True   True   False   \n",
       "..        ...        ...              ...     ...    ...    ...     ...   \n",
       "72          4          2    SR Tendulkar    INDIA  False  False   False   \n",
       "73          7          3      BAW Mendis       SL  False  False   False   \n",
       "74          5          4     Rashid Khan      AFG  False  False   False   \n",
       "75          4          1    UDU Chandana       SL  False  False   False   \n",
       "76          1          0        R Ashwin    INDIA  False  False   False   \n",
       "\n",
       "    Start   End  Period  \n",
       "0    1993  2011      18  \n",
       "1    1984  2003      19  \n",
       "2    1989  2003      14  \n",
       "3    1994  2008      14  \n",
       "4    1996  2015      19  \n",
       "..    ...   ...     ...  \n",
       "72   1989  2012      23  \n",
       "73   2008  2015       7  \n",
       "74   2015  2022       7  \n",
       "75   1994  2007      13  \n",
       "76   2010  2022      12  \n",
       "\n",
       "[77 rows x 18 columns]"
      ]
     },
     "metadata": {},
     "output_type": "display_data"
    }
   ],
   "source": [
    "data.drop(['Player','Span'],axis=1,inplace=True)\n",
    "display(data)"
   ]
  }
 ],
 "metadata": {
  "kernelspec": {
   "display_name": "Python 3",
   "language": "python",
   "name": "python3"
  },
  "language_info": {
   "codemirror_mode": {
    "name": "ipython",
    "version": 3
   },
   "file_extension": ".py",
   "mimetype": "text/x-python",
   "name": "python",
   "nbconvert_exporter": "python",
   "pygments_lexer": "ipython3",
   "version": "3.8.8"
  }
 },
 "nbformat": 4,
 "nbformat_minor": 5
}
